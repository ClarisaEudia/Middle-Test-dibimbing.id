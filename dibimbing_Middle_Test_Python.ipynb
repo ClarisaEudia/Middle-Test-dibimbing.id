{
  "nbformat": 4,
  "nbformat_minor": 0,
  "metadata": {
    "colab": {
      "provenance": []
    },
    "kernelspec": {
      "name": "python3",
      "display_name": "Python 3"
    },
    "language_info": {
      "name": "python"
    }
  },
  "cells": [
    {
      "cell_type": "code",
      "execution_count": 34,
      "metadata": {
        "colab": {
          "base_uri": "https://localhost:8080/"
        },
        "id": "gX6g6ZV1zFaI",
        "outputId": "32845d3b-d2c8-4cc7-e373-b56d26d58e74"
      },
      "outputs": [
        {
          "output_type": "stream",
          "name": "stdout",
          "text": [
            "Participants with the third place are: ['Charlie', 'Budi', 'Andi']\n"
          ]
        }
      ],
      "source": [
        "def third_place(names, scores):\n",
        "    sorted_participants = sorted([(names[i], scores[i]) for i in range(len(names))], reverse=True)\n",
        "    third_place_score = sorted_participants[2][1]\n",
        "    third_place_names = []\n",
        "\n",
        "    for participant in sorted_participants:\n",
        "        if participant[1] == third_place_score:\n",
        "            third_place_names.append(participant[0])\n",
        "\n",
        "    return third_place_names\n",
        "\n",
        "names = [\"Andi\", \"Budi\", \"Charlie\", \"Dilan\", \"Echa\"]\n",
        "scores = [80, 80, 80, 100, 90]\n",
        "result = third_place(names, scores)\n",
        "print(\"Participants with the third place are:\", result)"
      ]
    },
    {
      "cell_type": "code",
      "source": [
        "def distance(point_1, point_2):\n",
        "    x1, y1 = point_1\n",
        "    x2, y2 = point_2\n",
        "    return ((x2 - x1)**2 + (y2 - y1)**2)**0.5\n",
        "\n",
        "point_1 = [0, -1]\n",
        "point_2 = [-3, 2]\n",
        "result = distance(point_1, point_2)\n",
        "print(\"Jarak antara kedua koordinat adalah:\", result)"
      ],
      "metadata": {
        "colab": {
          "base_uri": "https://localhost:8080/"
        },
        "id": "mtF4x3WJ7sjr",
        "outputId": "c0254086-fea6-4324-e04c-997cdff0384c"
      },
      "execution_count": 33,
      "outputs": [
        {
          "output_type": "stream",
          "name": "stdout",
          "text": [
            "Jarak antara kedua koordinat adalah: 4.242640687119285\n"
          ]
        }
      ]
    }
  ]
}